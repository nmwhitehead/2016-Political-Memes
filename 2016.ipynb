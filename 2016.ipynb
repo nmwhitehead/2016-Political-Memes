{
 "cells": [
  {
   "cell_type": "code",
   "execution_count": 1,
   "metadata": {},
   "outputs": [],
   "source": [
    "import pandas as pd\n",
    "import numpy as np\n",
    "import matplotlib.pyplot as plt\n",
    "import seaborn as sns\n",
    "import datetime"
   ]
  },
  {
   "cell_type": "code",
   "execution_count": null,
   "metadata": {},
   "outputs": [],
   "source": []
  },
  {
   "cell_type": "markdown",
   "metadata": {},
   "source": [
    "### Meme Data"
   ]
  },
  {
   "cell_type": "code",
   "execution_count": 2,
   "metadata": {},
   "outputs": [],
   "source": [
    "# https://www.kaggle.com/SIZZLE/2016electionmemes"
   ]
  },
  {
   "cell_type": "code",
   "execution_count": null,
   "metadata": {},
   "outputs": [],
   "source": []
  },
  {
   "cell_type": "markdown",
   "metadata": {},
   "source": [
    "## Bernie Memes"
   ]
  },
  {
   "cell_type": "code",
   "execution_count": 3,
   "metadata": {},
   "outputs": [],
   "source": [
    "# I'm practicing on Bernie Memes because I like him\n",
    "\n",
    "# First we import the three Bernie meme titles\n",
    "bernie_memes = pd.read_csv('2016_Meme_Data/Bernie.csv', parse_dates=[\"timestamp\"])\n",
    "bern_memes = pd.read_csv('2016_Meme_Data/Bern.csv', parse_dates=[\"timestamp\"])\n",
    "feel_the_bern_memes = pd.read_csv('2016_Meme_Data/Feel_the_Bern.csv', parse_dates=[\"timestamp\"])\n",
    "\n",
    "# Then we combine them\n",
    "bernie_memes = bernie_memes.append([feel_the_bern_memes, bern_memes])\n",
    "\n",
    "# And drop the duplicates\n",
    "bernie_memes = bernie_memes.drop_duplicates(['id'])"
   ]
  },
  {
   "cell_type": "code",
   "execution_count": null,
   "metadata": {},
   "outputs": [],
   "source": []
  },
  {
   "cell_type": "code",
   "execution_count": 4,
   "metadata": {},
   "outputs": [
    {
     "data": {
      "text/html": [
       "<div>\n",
       "<style scoped>\n",
       "    .dataframe tbody tr th:only-of-type {\n",
       "        vertical-align: middle;\n",
       "    }\n",
       "\n",
       "    .dataframe tbody tr th {\n",
       "        vertical-align: top;\n",
       "    }\n",
       "\n",
       "    .dataframe thead th {\n",
       "        text-align: right;\n",
       "    }\n",
       "</style>\n",
       "<table border=\"1\" class=\"dataframe\">\n",
       "  <thead>\n",
       "    <tr style=\"text-align: right;\">\n",
       "      <th></th>\n",
       "      <th>timestamp</th>\n",
       "      <th>id</th>\n",
       "      <th>link</th>\n",
       "      <th>caption</th>\n",
       "      <th>author</th>\n",
       "      <th>network</th>\n",
       "      <th>likes</th>\n",
       "    </tr>\n",
       "  </thead>\n",
       "  <tbody>\n",
       "    <tr>\n",
       "      <td>973</td>\n",
       "      <td>2016-01-02 21:04:00</td>\n",
       "      <td>2531359</td>\n",
       "      <td>https://facebook.com/363164147066597/posts/927...</td>\n",
       "      <td>LIL BASED\\n BERNIE</td>\n",
       "      <td>3.63164E+14</td>\n",
       "      <td>facebook</td>\n",
       "      <td>2</td>\n",
       "    </tr>\n",
       "    <tr>\n",
       "      <td>972</td>\n",
       "      <td>2016-01-03 15:40:00</td>\n",
       "      <td>186090</td>\n",
       "      <td>https://facebook.com/663702017034419/posts/988...</td>\n",
       "      <td>Bernie Sanders\\n Follow\\n @Sen Sanders\\n Nobod...</td>\n",
       "      <td>6.63702E+14</td>\n",
       "      <td>facebook</td>\n",
       "      <td>2</td>\n",
       "    </tr>\n",
       "    <tr>\n",
       "      <td>1084</td>\n",
       "      <td>2016-01-04 21:10:00</td>\n",
       "      <td>185673</td>\n",
       "      <td>https://facebook.com/663702017034419/posts/989...</td>\n",
       "      <td>THE IDIOTS WHO THINK BERNIE SANDERS\\n WILL FIX...</td>\n",
       "      <td>6.63702E+14</td>\n",
       "      <td>facebook</td>\n",
       "      <td>4</td>\n",
       "    </tr>\n",
       "    <tr>\n",
       "      <td>781</td>\n",
       "      <td>2016-01-05 03:11:00</td>\n",
       "      <td>834932</td>\n",
       "      <td>http://imgur.com/TjsILvp</td>\n",
       "      <td>U.S. Senator Bernie Sanders\\n 8 hrs\\n What do ...</td>\n",
       "      <td>libertarianmeme</td>\n",
       "      <td>imgur</td>\n",
       "      <td>0</td>\n",
       "    </tr>\n",
       "    <tr>\n",
       "      <td>31</td>\n",
       "      <td>2016-01-08 01:32:00</td>\n",
       "      <td>617928</td>\n",
       "      <td>https://instagram.com/p/BAQn1QOlR0L</td>\n",
       "      <td>When you realize that chipotle you had\\n earli...</td>\n",
       "      <td>1328666350</td>\n",
       "      <td>instagram</td>\n",
       "      <td>2323</td>\n",
       "    </tr>\n",
       "  </tbody>\n",
       "</table>\n",
       "</div>"
      ],
      "text/plain": [
       "               timestamp       id  \\\n",
       "973  2016-01-02 21:04:00  2531359   \n",
       "972  2016-01-03 15:40:00   186090   \n",
       "1084 2016-01-04 21:10:00   185673   \n",
       "781  2016-01-05 03:11:00   834932   \n",
       "31   2016-01-08 01:32:00   617928   \n",
       "\n",
       "                                                   link  \\\n",
       "973   https://facebook.com/363164147066597/posts/927...   \n",
       "972   https://facebook.com/663702017034419/posts/988...   \n",
       "1084  https://facebook.com/663702017034419/posts/989...   \n",
       "781                            http://imgur.com/TjsILvp   \n",
       "31                  https://instagram.com/p/BAQn1QOlR0L   \n",
       "\n",
       "                                                caption           author  \\\n",
       "973                                  LIL BASED\\n BERNIE      3.63164E+14   \n",
       "972   Bernie Sanders\\n Follow\\n @Sen Sanders\\n Nobod...      6.63702E+14   \n",
       "1084  THE IDIOTS WHO THINK BERNIE SANDERS\\n WILL FIX...      6.63702E+14   \n",
       "781   U.S. Senator Bernie Sanders\\n 8 hrs\\n What do ...  libertarianmeme   \n",
       "31    When you realize that chipotle you had\\n earli...       1328666350   \n",
       "\n",
       "        network  likes  \n",
       "973    facebook      2  \n",
       "972    facebook      2  \n",
       "1084   facebook      4  \n",
       "781       imgur      0  \n",
       "31    instagram   2323  "
      ]
     },
     "execution_count": 4,
     "metadata": {},
     "output_type": "execute_result"
    }
   ],
   "source": [
    "# Next we sort the values by time and cut out meme's from pre 2016, though the primer is technically unnecessary\n",
    "\n",
    "bernie_memes = bernie_memes.sort_values('timestamp')\n",
    "bernie_memes = bernie_memes[(bernie_memes['timestamp'] > '2016-01-01') & (bernie_memes['timestamp'] < '2016-12-31')]\n",
    "\n",
    "bernie_memes.head()"
   ]
  },
  {
   "cell_type": "code",
   "execution_count": null,
   "metadata": {},
   "outputs": [],
   "source": []
  },
  {
   "cell_type": "code",
   "execution_count": 5,
   "metadata": {},
   "outputs": [
    {
     "data": {
      "text/html": [
       "<div>\n",
       "<style scoped>\n",
       "    .dataframe tbody tr th:only-of-type {\n",
       "        vertical-align: middle;\n",
       "    }\n",
       "\n",
       "    .dataframe tbody tr th {\n",
       "        vertical-align: top;\n",
       "    }\n",
       "\n",
       "    .dataframe thead th {\n",
       "        text-align: right;\n",
       "    }\n",
       "</style>\n",
       "<table border=\"1\" class=\"dataframe\">\n",
       "  <thead>\n",
       "    <tr style=\"text-align: right;\">\n",
       "      <th></th>\n",
       "      <th>Total Count</th>\n",
       "      <th>Total Likes</th>\n",
       "      <th>Average Likes</th>\n",
       "    </tr>\n",
       "    <tr>\n",
       "      <th>timestamp</th>\n",
       "      <th></th>\n",
       "      <th></th>\n",
       "      <th></th>\n",
       "    </tr>\n",
       "  </thead>\n",
       "  <tbody>\n",
       "    <tr>\n",
       "      <td>1</td>\n",
       "      <td>58</td>\n",
       "      <td>71205</td>\n",
       "      <td>1227.672414</td>\n",
       "    </tr>\n",
       "    <tr>\n",
       "      <td>2</td>\n",
       "      <td>291</td>\n",
       "      <td>785204</td>\n",
       "      <td>2698.295533</td>\n",
       "    </tr>\n",
       "    <tr>\n",
       "      <td>3</td>\n",
       "      <td>168</td>\n",
       "      <td>334357</td>\n",
       "      <td>1990.220238</td>\n",
       "    </tr>\n",
       "    <tr>\n",
       "      <td>4</td>\n",
       "      <td>199</td>\n",
       "      <td>187218</td>\n",
       "      <td>940.793970</td>\n",
       "    </tr>\n",
       "    <tr>\n",
       "      <td>5</td>\n",
       "      <td>337</td>\n",
       "      <td>60748</td>\n",
       "      <td>180.261128</td>\n",
       "    </tr>\n",
       "    <tr>\n",
       "      <td>6</td>\n",
       "      <td>247</td>\n",
       "      <td>64893</td>\n",
       "      <td>262.724696</td>\n",
       "    </tr>\n",
       "    <tr>\n",
       "      <td>7</td>\n",
       "      <td>203</td>\n",
       "      <td>64008</td>\n",
       "      <td>315.310345</td>\n",
       "    </tr>\n",
       "    <tr>\n",
       "      <td>8</td>\n",
       "      <td>88</td>\n",
       "      <td>31500</td>\n",
       "      <td>357.954545</td>\n",
       "    </tr>\n",
       "    <tr>\n",
       "      <td>9</td>\n",
       "      <td>130</td>\n",
       "      <td>82135</td>\n",
       "      <td>631.807692</td>\n",
       "    </tr>\n",
       "    <tr>\n",
       "      <td>10</td>\n",
       "      <td>702</td>\n",
       "      <td>631043</td>\n",
       "      <td>898.921652</td>\n",
       "    </tr>\n",
       "    <tr>\n",
       "      <td>11</td>\n",
       "      <td>5</td>\n",
       "      <td>2749</td>\n",
       "      <td>549.800000</td>\n",
       "    </tr>\n",
       "  </tbody>\n",
       "</table>\n",
       "</div>"
      ],
      "text/plain": [
       "           Total Count  Total Likes  Average Likes\n",
       "timestamp                                         \n",
       "1                   58        71205    1227.672414\n",
       "2                  291       785204    2698.295533\n",
       "3                  168       334357    1990.220238\n",
       "4                  199       187218     940.793970\n",
       "5                  337        60748     180.261128\n",
       "6                  247        64893     262.724696\n",
       "7                  203        64008     315.310345\n",
       "8                   88        31500     357.954545\n",
       "9                  130        82135     631.807692\n",
       "10                 702       631043     898.921652\n",
       "11                   5         2749     549.800000"
      ]
     },
     "execution_count": 5,
     "metadata": {},
     "output_type": "execute_result"
    }
   ],
   "source": [
    "# Now we count the number of meme's per month\n",
    "\n",
    "bernie_by_month = bernie_memes['timestamp'].groupby(bernie_memes['timestamp'].dt.month).count()\n",
    "bernie_by_month = pd.DataFrame(bernie_by_month)\n",
    "bernie_by_month.columns = ['Total Count']\n",
    "\n",
    "# And add data on the 'likes' for graphing purposes\n",
    "\n",
    "bernie_by_month['Total Likes'] = bernie_memes['likes'].groupby(bernie_memes['timestamp'].dt.month).sum()\n",
    "bernie_by_month['Average Likes'] = bernie_memes['likes'].groupby(bernie_memes['timestamp'].dt.month).mean()\n",
    "\n",
    "bernie_by_month"
   ]
  },
  {
   "cell_type": "code",
   "execution_count": null,
   "metadata": {},
   "outputs": [],
   "source": []
  },
  {
   "cell_type": "code",
   "execution_count": 6,
   "metadata": {},
   "outputs": [],
   "source": [
    "# November didn't have enough pre-election days for the month to matter\n",
    "\n",
    "bernie_by_month = bernie_by_month.drop(labels=11)"
   ]
  },
  {
   "cell_type": "code",
   "execution_count": null,
   "metadata": {},
   "outputs": [],
   "source": []
  },
  {
   "cell_type": "markdown",
   "metadata": {},
   "source": [
    "### Graphing Time"
   ]
  },
  {
   "cell_type": "code",
   "execution_count": 7,
   "metadata": {},
   "outputs": [],
   "source": [
    "# This will make it easier to plot all the data points\n",
    "\n",
    "def monthly_data_plot(plot_data, plot_title, plot_yaxis):\n",
    "    \n",
    "    plt.figure(figsize=(16,10))\n",
    "    plt.title(plot_title, size=25)\n",
    "    \n",
    "    plt.ylabel(plot_yaxis, size=20)\n",
    "    plt.xlabel('Months of 2016', size=20)\n",
    "    plt.xticks([1, 2, 3, 4, 5, 6, 7, 8, 9, 10],\n",
    "            ['Jan', 'Feb', 'Mar', 'Apr', 'May', 'Jun', 'Jul', 'Aug', 'Sep', 'Oct'])\n",
    "    \n",
    "    plt.plot(plot_data)"
   ]
  },
  {
   "cell_type": "code",
   "execution_count": 8,
   "metadata": {},
   "outputs": [
    {
     "data": {
      "image/png": "[encoded data removed]",
      "text/plain": [
       "<Figure size 1152x720 with 1 Axes>"
      ]
     },
     "metadata": {
      "needs_background": "light"
     },
     "output_type": "display_data"
    }
   ],
   "source": [
    "monthly_data_plot(bernie_by_month['Total Count'], \"Bernie's Monthly Meme Count Peaked After He Dropped Out\", 'Total Memes')"
   ]
  },
  {
   "cell_type": "code",
   "execution_count": 9,
   "metadata": {},
   "outputs": [
    {
     "data": {
      "image/png": "[encoded data removed]",
      "text/plain": [
       "<Figure size 1152x720 with 1 Axes>"
      ]
     },
     "metadata": {
      "needs_background": "light"
     },
     "output_type": "display_data"
    }
   ],
   "source": [
    "monthly_data_plot(bernie_by_month['Total Likes'], \"Bernies Like Count Really Dipped After Super Tuesday \", 'Total Likes')"
   ]
  },
  {
   "cell_type": "code",
   "execution_count": 10,
   "metadata": {},
   "outputs": [
    {
     "data": {
      "image/png": "[encoded data removed]",
      "text/plain": [
       "<Figure size 1152x720 with 1 Axes>"
      ]
     },
     "metadata": {
      "needs_background": "light"
     },
     "output_type": "display_data"
    }
   ],
   "source": [
    "monthly_data_plot(bernie_by_month['Average Likes'], \"Bernie's Average Like Count Took Longer To Dip\", 'Average Likes Per Meme')"
   ]
  },
  {
   "cell_type": "code",
   "execution_count": null,
   "metadata": {},
   "outputs": [],
   "source": []
  },
  {
   "cell_type": "markdown",
   "metadata": {},
   "source": [
    "# Now For The Real Data"
   ]
  },
  {
   "cell_type": "code",
   "execution_count": 11,
   "metadata": {},
   "outputs": [
    {
     "name": "stderr",
     "output_type": "stream",
     "text": [
      "C:\\Users\\nolan\\Anaconda3\\lib\\site-packages\\IPython\\core\\interactiveshell.py:3057: DtypeWarning: Columns (180) have mixed types. Specify dtype option on import or set low_memory=False.\n",
      "  interactivity=interactivity, compiler=compiler, result=result)\n"
     ]
    }
   ],
   "source": [
    "# Clinton Memes\n",
    "\n",
    "clinton_memes = pd.read_csv('2016_Meme_Data/Clinton.csv', parse_dates=[\"timestamp\"])\n",
    "hillary_memes = pd.read_csv('2016_Meme_Data/Hillary.csv', parse_dates=[\"timestamp\"])\n",
    "with_her_memes = pd.read_csv('2016_Meme_Data/imwithher.csv', parse_dates=[\"timestamp\"])"
   ]
  },
  {
   "cell_type": "code",
   "execution_count": 12,
   "metadata": {},
   "outputs": [],
   "source": [
    "# Drop the hundred or so Unnamed Columns\n",
    "\n",
    "hillary_memes = hillary_memes.loc[:, ~hillary_memes.columns.str.contains('^Unnamed')]"
   ]
  },
  {
   "cell_type": "code",
   "execution_count": 13,
   "metadata": {},
   "outputs": [],
   "source": [
    "# Combine\n",
    "\n",
    "clinton_memes = clinton_memes.append([hillary_memes, with_her_memes])"
   ]
  },
  {
   "cell_type": "code",
   "execution_count": 14,
   "metadata": {},
   "outputs": [
    {
     "data": {
      "text/html": [
       "<div>\n",
       "<style scoped>\n",
       "    .dataframe tbody tr th:only-of-type {\n",
       "        vertical-align: middle;\n",
       "    }\n",
       "\n",
       "    .dataframe tbody tr th {\n",
       "        vertical-align: top;\n",
       "    }\n",
       "\n",
       "    .dataframe thead th {\n",
       "        text-align: right;\n",
       "    }\n",
       "</style>\n",
       "<table border=\"1\" class=\"dataframe\">\n",
       "  <thead>\n",
       "    <tr style=\"text-align: right;\">\n",
       "      <th></th>\n",
       "      <th>timestamp</th>\n",
       "      <th>id</th>\n",
       "      <th>link</th>\n",
       "      <th>caption</th>\n",
       "      <th>author</th>\n",
       "      <th>network</th>\n",
       "      <th>likes</th>\n",
       "    </tr>\n",
       "  </thead>\n",
       "  <tbody>\n",
       "    <tr>\n",
       "      <td>2330</td>\n",
       "      <td>2016-01-01 22:11:00</td>\n",
       "      <td>156645</td>\n",
       "      <td>https://facebook.com/145380305523723/posts/100...</td>\n",
       "      <td>inngfip.com\\n HILLARY: HEY STATE DEPT\\n CAN YO...</td>\n",
       "      <td>1.4538E+14</td>\n",
       "      <td>facebook</td>\n",
       "      <td>1</td>\n",
       "    </tr>\n",
       "    <tr>\n",
       "      <td>10090</td>\n",
       "      <td>2016-01-02 01:47:00</td>\n",
       "      <td>643650</td>\n",
       "      <td>https://instagram.com/p/BABM1OxmmL8</td>\n",
       "      <td>Hillary Clinton\\n @Hillary Clinton\\n @Cabbage ...</td>\n",
       "      <td>836591687</td>\n",
       "      <td>instagram</td>\n",
       "      <td>1878</td>\n",
       "    </tr>\n",
       "    <tr>\n",
       "      <td>1138</td>\n",
       "      <td>2016-01-05 02:06:00</td>\n",
       "      <td>835113</td>\n",
       "      <td>http://imgur.com/FuuH1LD</td>\n",
       "      <td>CNN Politics\\n Like Page\\n 2 hrs\\n Maybe we co...</td>\n",
       "      <td>ayylmao</td>\n",
       "      <td>imgur</td>\n",
       "      <td>0</td>\n",
       "    </tr>\n",
       "    <tr>\n",
       "      <td>1931</td>\n",
       "      <td>2016-01-05 02:06:00</td>\n",
       "      <td>835113</td>\n",
       "      <td>http://imgur.com/FuuH1LD</td>\n",
       "      <td>CNN Politics\\n Like Page\\n 2 hrs\\n Maybe we co...</td>\n",
       "      <td>ayylmao</td>\n",
       "      <td>imgur</td>\n",
       "      <td>0</td>\n",
       "    </tr>\n",
       "    <tr>\n",
       "      <td>1930</td>\n",
       "      <td>2016-01-07 11:58:00</td>\n",
       "      <td>882088</td>\n",
       "      <td>http://imgur.com/AmOLzpg</td>\n",
       "      <td>Eagle Rising\\n Nov 24, 2015 at 6:15pm\\n Hillar...</td>\n",
       "      <td>thefacebookdelusion</td>\n",
       "      <td>imgur</td>\n",
       "      <td>0</td>\n",
       "    </tr>\n",
       "  </tbody>\n",
       "</table>\n",
       "</div>"
      ],
      "text/plain": [
       "                timestamp      id  \\\n",
       "2330  2016-01-01 22:11:00  156645   \n",
       "10090 2016-01-02 01:47:00  643650   \n",
       "1138  2016-01-05 02:06:00  835113   \n",
       "1931  2016-01-05 02:06:00  835113   \n",
       "1930  2016-01-07 11:58:00  882088   \n",
       "\n",
       "                                                    link  \\\n",
       "2330   https://facebook.com/145380305523723/posts/100...   \n",
       "10090                https://instagram.com/p/BABM1OxmmL8   \n",
       "1138                            http://imgur.com/FuuH1LD   \n",
       "1931                            http://imgur.com/FuuH1LD   \n",
       "1930                            http://imgur.com/AmOLzpg   \n",
       "\n",
       "                                                 caption               author  \\\n",
       "2330   inngfip.com\\n HILLARY: HEY STATE DEPT\\n CAN YO...           1.4538E+14   \n",
       "10090  Hillary Clinton\\n @Hillary Clinton\\n @Cabbage ...            836591687   \n",
       "1138   CNN Politics\\n Like Page\\n 2 hrs\\n Maybe we co...              ayylmao   \n",
       "1931   CNN Politics\\n Like Page\\n 2 hrs\\n Maybe we co...              ayylmao   \n",
       "1930   Eagle Rising\\n Nov 24, 2015 at 6:15pm\\n Hillar...  thefacebookdelusion   \n",
       "\n",
       "         network  likes  \n",
       "2330    facebook      1  \n",
       "10090  instagram   1878  \n",
       "1138       imgur      0  \n",
       "1931       imgur      0  \n",
       "1930       imgur      0  "
      ]
     },
     "execution_count": 14,
     "metadata": {},
     "output_type": "execute_result"
    }
   ],
   "source": [
    "# Remove Pe-2016 Meme and November Memes\n",
    "\n",
    "clinton_memes = clinton_memes[(clinton_memes['timestamp'] > '2016-01-01') & (clinton_memes['timestamp'] <= '2016-10-31')]\n",
    "clinton_memes = clinton_memes.sort_values(by='timestamp')\n",
    "\n",
    "clinton_memes.head()"
   ]
  },
  {
   "cell_type": "code",
   "execution_count": null,
   "metadata": {},
   "outputs": [],
   "source": []
  },
  {
   "cell_type": "code",
   "execution_count": 15,
   "metadata": {},
   "outputs": [
    {
     "name": "stderr",
     "output_type": "stream",
     "text": [
      "C:\\Users\\nolan\\Anaconda3\\lib\\site-packages\\IPython\\core\\interactiveshell.py:3057: DtypeWarning: Columns (198) have mixed types. Specify dtype option on import or set low_memory=False.\n",
      "  interactivity=interactivity, compiler=compiler, result=result)\n"
     ]
    }
   ],
   "source": [
    "# Trump Memes\n",
    "# The data had no category for 'MAGA Memes', which may say something about quality of the data, but it's the best I could find\n",
    "\n",
    "trump_memes = pd.read_csv('2016_Meme_Data/Trump.csv', parse_dates=[\"timestamp\"])\n",
    "donald_memes = pd.read_csv('2016_Meme_Data/Donald.csv', parse_dates=[\"timestamp\"])"
   ]
  },
  {
   "cell_type": "code",
   "execution_count": 16,
   "metadata": {},
   "outputs": [],
   "source": [
    "# These have Unnamed Columns too\n",
    "\n",
    "donald_memes = donald_memes.loc[:, ~donald_memes.columns.str.contains('^Unnamed')]\n",
    "trump_memes = trump_memes.loc[:, ~trump_memes.columns.str.contains('^Unnamed')]"
   ]
  },
  {
   "cell_type": "code",
   "execution_count": 17,
   "metadata": {},
   "outputs": [],
   "source": [
    "# Combine them\n",
    "\n",
    "trump_memes = trump_memes.append(donald_memes)"
   ]
  },
  {
   "cell_type": "code",
   "execution_count": 18,
   "metadata": {},
   "outputs": [
    {
     "data": {
      "text/html": [
       "<div>\n",
       "<style scoped>\n",
       "    .dataframe tbody tr th:only-of-type {\n",
       "        vertical-align: middle;\n",
       "    }\n",
       "\n",
       "    .dataframe tbody tr th {\n",
       "        vertical-align: top;\n",
       "    }\n",
       "\n",
       "    .dataframe thead th {\n",
       "        text-align: right;\n",
       "    }\n",
       "</style>\n",
       "<table border=\"1\" class=\"dataframe\">\n",
       "  <thead>\n",
       "    <tr style=\"text-align: right;\">\n",
       "      <th></th>\n",
       "      <th>timestamp</th>\n",
       "      <th>id</th>\n",
       "      <th>link</th>\n",
       "      <th>caption</th>\n",
       "      <th>author</th>\n",
       "      <th>network</th>\n",
       "      <th>likes</th>\n",
       "    </tr>\n",
       "  </thead>\n",
       "  <tbody>\n",
       "    <tr>\n",
       "      <td>1679</td>\n",
       "      <td>2016-01-01 12:57:00</td>\n",
       "      <td>835451</td>\n",
       "      <td>http://imgur.com/xtvEjIx</td>\n",
       "      <td>Yoko Ono attempts to devour\\n Donald Trump's t...</td>\n",
       "      <td>Teleshits</td>\n",
       "      <td>imgur</td>\n",
       "      <td>0</td>\n",
       "    </tr>\n",
       "    <tr>\n",
       "      <td>3159</td>\n",
       "      <td>2016-01-01 12:57:00</td>\n",
       "      <td>835451</td>\n",
       "      <td>http://imgur.com/xtvEjIx</td>\n",
       "      <td>Yoko Ono attempts to devour\\n Donald Trump's t...</td>\n",
       "      <td>Teleshits</td>\n",
       "      <td>imgur</td>\n",
       "      <td>0</td>\n",
       "    </tr>\n",
       "    <tr>\n",
       "      <td>7384</td>\n",
       "      <td>2016-01-01 14:43:00</td>\n",
       "      <td>645403</td>\n",
       "      <td>https://instagram.com/p/BAAA1wBNOQR</td>\n",
       "      <td>Who's more presidential?\\n LIKE DJ Khaled\\n IG...</td>\n",
       "      <td>1607993384</td>\n",
       "      <td>instagram</td>\n",
       "      <td>2017</td>\n",
       "    </tr>\n",
       "    <tr>\n",
       "      <td>14343</td>\n",
       "      <td>2016-01-01 14:43:00</td>\n",
       "      <td>645403</td>\n",
       "      <td>https://instagram.com/p/BAAA1wBNOQR</td>\n",
       "      <td>Who's more presidential?\\n LIKE DJ Khaled\\n IG...</td>\n",
       "      <td>1607993384</td>\n",
       "      <td>instagram</td>\n",
       "      <td>2017</td>\n",
       "    </tr>\n",
       "    <tr>\n",
       "      <td>13282</td>\n",
       "      <td>2016-01-01 16:35:00</td>\n",
       "      <td>645225</td>\n",
       "      <td>https://instagram.com/p/BAANqTwNOV3</td>\n",
       "      <td>msomod\\n atrevytrevvv Nov 3\\n ou saw Donald Tr...</td>\n",
       "      <td>1607993384</td>\n",
       "      <td>instagram</td>\n",
       "      <td>922</td>\n",
       "    </tr>\n",
       "  </tbody>\n",
       "</table>\n",
       "</div>"
      ],
      "text/plain": [
       "                timestamp      id                                 link  \\\n",
       "1679  2016-01-01 12:57:00  835451             http://imgur.com/xtvEjIx   \n",
       "3159  2016-01-01 12:57:00  835451             http://imgur.com/xtvEjIx   \n",
       "7384  2016-01-01 14:43:00  645403  https://instagram.com/p/BAAA1wBNOQR   \n",
       "14343 2016-01-01 14:43:00  645403  https://instagram.com/p/BAAA1wBNOQR   \n",
       "13282 2016-01-01 16:35:00  645225  https://instagram.com/p/BAANqTwNOV3   \n",
       "\n",
       "                                                 caption      author  \\\n",
       "1679   Yoko Ono attempts to devour\\n Donald Trump's t...   Teleshits   \n",
       "3159   Yoko Ono attempts to devour\\n Donald Trump's t...   Teleshits   \n",
       "7384   Who's more presidential?\\n LIKE DJ Khaled\\n IG...  1607993384   \n",
       "14343  Who's more presidential?\\n LIKE DJ Khaled\\n IG...  1607993384   \n",
       "13282  msomod\\n atrevytrevvv Nov 3\\n ou saw Donald Tr...  1607993384   \n",
       "\n",
       "         network  likes  \n",
       "1679       imgur      0  \n",
       "3159       imgur      0  \n",
       "7384   instagram   2017  \n",
       "14343  instagram   2017  \n",
       "13282  instagram    922  "
      ]
     },
     "execution_count": 18,
     "metadata": {},
     "output_type": "execute_result"
    }
   ],
   "source": [
    "# Remove Pe-2016 Meme and November Memes\n",
    "\n",
    "trump_memes = trump_memes[(trump_memes['timestamp'] > '2016-01-01') & (trump_memes['timestamp'] <= '2016-10-31')]\n",
    "trump_memes = trump_memes.sort_values(by='timestamp')\n",
    "\n",
    "trump_memes.head()"
   ]
  },
  {
   "cell_type": "code",
   "execution_count": null,
   "metadata": {},
   "outputs": [],
   "source": []
  },
  {
   "cell_type": "code",
   "execution_count": 19,
   "metadata": {},
   "outputs": [],
   "source": [
    "# Drop Duplicates\n",
    "\n",
    "clinton_memes.drop_duplicates(inplace=True)\n",
    "trump_memes.drop_duplicates(inplace=True)"
   ]
  },
  {
   "cell_type": "code",
   "execution_count": null,
   "metadata": {},
   "outputs": [],
   "source": []
  },
  {
   "cell_type": "code",
   "execution_count": 20,
   "metadata": {},
   "outputs": [
    {
     "name": "stdout",
     "output_type": "stream",
     "text": [
      "Clinton: 13076\n",
      "Trump: 18293\n"
     ]
    }
   ],
   "source": [
    "# Let's compare the totals\n",
    "\n",
    "print(f'Clinton: {len(clinton_memes)}')\n",
    "print(f'Trump: {len(trump_memes)}')"
   ]
  },
  {
   "cell_type": "code",
   "execution_count": null,
   "metadata": {},
   "outputs": [],
   "source": []
  },
  {
   "cell_type": "markdown",
   "metadata": {},
   "source": [
    "## Weekly Data"
   ]
  },
  {
   "cell_type": "code",
   "execution_count": 21,
   "metadata": {},
   "outputs": [],
   "source": [
    "# Now we count the memes and likes per week of each candidate\n",
    "\n",
    "memes_by_week = pd.DataFrame(data=clinton_memes['timestamp'].groupby(clinton_memes['timestamp'].dt.week).count())\n",
    "memes_by_week.columns = ['Clinton - Number of Memes']\n",
    "memes_by_week['Clinton - Number of Likes'] = clinton_memes['likes'].groupby(clinton_memes['timestamp'].dt.week).sum()\n",
    "memes_by_week['Trump - Number of Memes'] = trump_memes['timestamp'].groupby(trump_memes['timestamp'].dt.week).count()\n",
    "memes_by_week['Trump - Number of Likes'] = trump_memes['likes'].groupby(trump_memes['timestamp'].dt.week).sum()\n",
    "memes_by_week.index.name = 'Weeks'"
   ]
  },
  {
   "cell_type": "code",
   "execution_count": 22,
   "metadata": {},
   "outputs": [
    {
     "data": {
      "text/html": [
       "<div>\n",
       "<style scoped>\n",
       "    .dataframe tbody tr th:only-of-type {\n",
       "        vertical-align: middle;\n",
       "    }\n",
       "\n",
       "    .dataframe tbody tr th {\n",
       "        vertical-align: top;\n",
       "    }\n",
       "\n",
       "    .dataframe thead th {\n",
       "        text-align: right;\n",
       "    }\n",
       "</style>\n",
       "<table border=\"1\" class=\"dataframe\">\n",
       "  <thead>\n",
       "    <tr style=\"text-align: right;\">\n",
       "      <th></th>\n",
       "      <th>Clinton - Number of Memes</th>\n",
       "      <th>Clinton - Number of Likes</th>\n",
       "      <th>Trump - Number of Memes</th>\n",
       "      <th>Trump - Number of Likes</th>\n",
       "    </tr>\n",
       "    <tr>\n",
       "      <th>Weeks</th>\n",
       "      <th></th>\n",
       "      <th></th>\n",
       "      <th></th>\n",
       "      <th></th>\n",
       "    </tr>\n",
       "  </thead>\n",
       "  <tbody>\n",
       "    <tr>\n",
       "      <td>1</td>\n",
       "      <td>4</td>\n",
       "      <td>66244</td>\n",
       "      <td>32</td>\n",
       "      <td>298768</td>\n",
       "    </tr>\n",
       "    <tr>\n",
       "      <td>2</td>\n",
       "      <td>27</td>\n",
       "      <td>156243</td>\n",
       "      <td>59</td>\n",
       "      <td>584399</td>\n",
       "    </tr>\n",
       "    <tr>\n",
       "      <td>3</td>\n",
       "      <td>10</td>\n",
       "      <td>3058</td>\n",
       "      <td>49</td>\n",
       "      <td>186908</td>\n",
       "    </tr>\n",
       "    <tr>\n",
       "      <td>4</td>\n",
       "      <td>20</td>\n",
       "      <td>58891</td>\n",
       "      <td>48</td>\n",
       "      <td>470808</td>\n",
       "    </tr>\n",
       "    <tr>\n",
       "      <td>5</td>\n",
       "      <td>74</td>\n",
       "      <td>139635</td>\n",
       "      <td>43</td>\n",
       "      <td>194547</td>\n",
       "    </tr>\n",
       "  </tbody>\n",
       "</table>\n",
       "</div>"
      ],
      "text/plain": [
       "       Clinton - Number of Memes  Clinton - Number of Likes  \\\n",
       "Weeks                                                         \n",
       "1                              4                      66244   \n",
       "2                             27                     156243   \n",
       "3                             10                       3058   \n",
       "4                             20                      58891   \n",
       "5                             74                     139635   \n",
       "\n",
       "       Trump - Number of Memes  Trump - Number of Likes  \n",
       "Weeks                                                    \n",
       "1                           32                   298768  \n",
       "2                           59                   584399  \n",
       "3                           49                   186908  \n",
       "4                           48                   470808  \n",
       "5                           43                   194547  "
      ]
     },
     "execution_count": 22,
     "metadata": {},
     "output_type": "execute_result"
    }
   ],
   "source": [
    "memes_by_week.head()"
   ]
  },
  {
   "cell_type": "code",
   "execution_count": 23,
   "metadata": {},
   "outputs": [],
   "source": [
    "# Not sure why it goes from 44 to 53, but both of those need to go\n",
    "\n",
    "memes_by_week = memes_by_week.drop([44, 53])"
   ]
  },
  {
   "cell_type": "code",
   "execution_count": null,
   "metadata": {},
   "outputs": [],
   "source": []
  },
  {
   "cell_type": "code",
   "execution_count": 24,
   "metadata": {},
   "outputs": [
    {
     "data": {
      "text/plain": [
       "[<matplotlib.lines.Line2D at 0x1a856761240>]"
      ]
     },
     "execution_count": 24,
     "metadata": {},
     "output_type": "execute_result"
    },
    {
     "data": {
      "image/png": "[encoded data removed]",
      "text/plain": [
       "<Figure size 1152x720 with 1 Axes>"
      ]
     },
     "metadata": {
      "needs_background": "light"
     },
     "output_type": "display_data"
    }
   ],
   "source": [
    "# Let's graph these out to compare\n",
    "\n",
    "plt.figure(figsize=(16, 10))\n",
    "\n",
    "plt.plot(memes_by_week['Clinton - Number of Memes'], color='blue')\n",
    "plt.plot(memes_by_week['Trump - Number of Memes'], color='red')"
   ]
  },
  {
   "cell_type": "code",
   "execution_count": null,
   "metadata": {},
   "outputs": [],
   "source": []
  },
  {
   "cell_type": "code",
   "execution_count": 25,
   "metadata": {},
   "outputs": [],
   "source": [
    "# Creating columns showing the percent of total memes to aid with visulaization.\n",
    "\n",
    "memes_by_week['Total Memes'] = memes_by_week['Clinton - Number of Memes'] + memes_by_week['Trump - Number of Memes']\n",
    "memes_by_week['Clinton - Percent of Memes'] = round(memes_by_week['Clinton - Number of Memes'] / memes_by_week['Total Memes'] * 100)\n",
    "memes_by_week['Trump - Percent of Memes'] = round(memes_by_week['Trump - Number of Memes'] / memes_by_week['Total Memes'] * 100)"
   ]
  },
  {
   "cell_type": "code",
   "execution_count": 26,
   "metadata": {},
   "outputs": [
    {
     "data": {
      "text/html": [
       "<div>\n",
       "<style scoped>\n",
       "    .dataframe tbody tr th:only-of-type {\n",
       "        vertical-align: middle;\n",
       "    }\n",
       "\n",
       "    .dataframe tbody tr th {\n",
       "        vertical-align: top;\n",
       "    }\n",
       "\n",
       "    .dataframe thead th {\n",
       "        text-align: right;\n",
       "    }\n",
       "</style>\n",
       "<table border=\"1\" class=\"dataframe\">\n",
       "  <thead>\n",
       "    <tr style=\"text-align: right;\">\n",
       "      <th></th>\n",
       "      <th>Clinton - Number of Memes</th>\n",
       "      <th>Clinton - Number of Likes</th>\n",
       "      <th>Trump - Number of Memes</th>\n",
       "      <th>Trump - Number of Likes</th>\n",
       "      <th>Total Memes</th>\n",
       "      <th>Clinton - Percent of Memes</th>\n",
       "      <th>Trump - Percent of Memes</th>\n",
       "    </tr>\n",
       "    <tr>\n",
       "      <th>Weeks</th>\n",
       "      <th></th>\n",
       "      <th></th>\n",
       "      <th></th>\n",
       "      <th></th>\n",
       "      <th></th>\n",
       "      <th></th>\n",
       "      <th></th>\n",
       "    </tr>\n",
       "  </thead>\n",
       "  <tbody>\n",
       "    <tr>\n",
       "      <td>39</td>\n",
       "      <td>760</td>\n",
       "      <td>810684</td>\n",
       "      <td>1013</td>\n",
       "      <td>1045886</td>\n",
       "      <td>1773</td>\n",
       "      <td>43.0</td>\n",
       "      <td>57.0</td>\n",
       "    </tr>\n",
       "    <tr>\n",
       "      <td>40</td>\n",
       "      <td>745</td>\n",
       "      <td>939238</td>\n",
       "      <td>1321</td>\n",
       "      <td>2228093</td>\n",
       "      <td>2066</td>\n",
       "      <td>36.0</td>\n",
       "      <td>64.0</td>\n",
       "    </tr>\n",
       "    <tr>\n",
       "      <td>41</td>\n",
       "      <td>2077</td>\n",
       "      <td>1803958</td>\n",
       "      <td>3419</td>\n",
       "      <td>5000424</td>\n",
       "      <td>5496</td>\n",
       "      <td>38.0</td>\n",
       "      <td>62.0</td>\n",
       "    </tr>\n",
       "    <tr>\n",
       "      <td>42</td>\n",
       "      <td>2710</td>\n",
       "      <td>2166071</td>\n",
       "      <td>3160</td>\n",
       "      <td>2869086</td>\n",
       "      <td>5870</td>\n",
       "      <td>46.0</td>\n",
       "      <td>54.0</td>\n",
       "    </tr>\n",
       "    <tr>\n",
       "      <td>43</td>\n",
       "      <td>2606</td>\n",
       "      <td>1349770</td>\n",
       "      <td>2314</td>\n",
       "      <td>1373230</td>\n",
       "      <td>4920</td>\n",
       "      <td>53.0</td>\n",
       "      <td>47.0</td>\n",
       "    </tr>\n",
       "  </tbody>\n",
       "</table>\n",
       "</div>"
      ],
      "text/plain": [
       "       Clinton - Number of Memes  Clinton - Number of Likes  \\\n",
       "Weeks                                                         \n",
       "39                           760                     810684   \n",
       "40                           745                     939238   \n",
       "41                          2077                    1803958   \n",
       "42                          2710                    2166071   \n",
       "43                          2606                    1349770   \n",
       "\n",
       "       Trump - Number of Memes  Trump - Number of Likes  Total Memes  \\\n",
       "Weeks                                                                  \n",
       "39                        1013                  1045886         1773   \n",
       "40                        1321                  2228093         2066   \n",
       "41                        3419                  5000424         5496   \n",
       "42                        3160                  2869086         5870   \n",
       "43                        2314                  1373230         4920   \n",
       "\n",
       "       Clinton - Percent of Memes  Trump - Percent of Memes  \n",
       "Weeks                                                        \n",
       "39                           43.0                      57.0  \n",
       "40                           36.0                      64.0  \n",
       "41                           38.0                      62.0  \n",
       "42                           46.0                      54.0  \n",
       "43                           53.0                      47.0  "
      ]
     },
     "execution_count": 26,
     "metadata": {},
     "output_type": "execute_result"
    }
   ],
   "source": [
    "memes_by_week.tail()"
   ]
  },
  {
   "cell_type": "code",
   "execution_count": null,
   "metadata": {},
   "outputs": [],
   "source": []
  },
  {
   "cell_type": "code",
   "execution_count": 27,
   "metadata": {},
   "outputs": [
    {
     "data": {
      "image/png": "[encoded data removed]",
      "text/plain": [
       "<Figure size 1152x720 with 1 Axes>"
      ]
     },
     "metadata": {
      "needs_background": "light"
     },
     "output_type": "display_data"
    }
   ],
   "source": [
    "# And let's see the graph\n",
    "\n",
    "plt.figure(figsize=(16, 10))\n",
    "\n",
    "plt.title('With Few Exceptions, Trump Dominated Weekly Meme Count', size=36)\n",
    "plt.xlabel('Weeks of 2016', size=32)\n",
    "plt.ylabel('Percent of Memes', size=32)\n",
    "plt.text(x=43, y=49, s='50%', size=18)\n",
    "\n",
    "plt.hlines(y=50, xmin=0, xmax=43, color='black', linestyles='dashed')\n",
    "\n",
    "# plt.plot(memes_by_week['Clinton - Percent of Memes'], color='blue');\n",
    "plt.plot(memes_by_week['Trump - Percent of Memes'], color='red');"
   ]
  },
  {
   "cell_type": "code",
   "execution_count": null,
   "metadata": {},
   "outputs": [],
   "source": []
  },
  {
   "cell_type": "code",
   "execution_count": null,
   "metadata": {},
   "outputs": [],
   "source": []
  },
  {
   "cell_type": "code",
   "execution_count": null,
   "metadata": {},
   "outputs": [],
   "source": []
  },
  {
   "cell_type": "markdown",
   "metadata": {},
   "source": [
    "## Monthly Data"
   ]
  },
  {
   "cell_type": "code",
   "execution_count": 28,
   "metadata": {},
   "outputs": [],
   "source": [
    "# Now we count the memes and likes per month of each candidate to see if the graph looks better\n",
    "\n",
    "memes_by_month = pd.DataFrame(data=clinton_memes['timestamp'].groupby(clinton_memes['timestamp'].dt.month).count())\n",
    "memes_by_month.columns = ['Clinton - Number of Memes']\n",
    "memes_by_month['Clinton - Number of Likes'] = clinton_memes['likes'].groupby(clinton_memes['timestamp'].dt.month).sum()\n",
    "memes_by_month['Trump - Number of Memes'] = trump_memes['timestamp'].groupby(trump_memes['timestamp'].dt.month).count()\n",
    "memes_by_month['Trump - Number of Likes'] = trump_memes['likes'].groupby(trump_memes['timestamp'].dt.month).sum()\n",
    "memes_by_month.index.name = 'Months'"
   ]
  },
  {
   "cell_type": "code",
   "execution_count": 29,
   "metadata": {},
   "outputs": [
    {
     "data": {
      "text/html": [
       "<div>\n",
       "<style scoped>\n",
       "    .dataframe tbody tr th:only-of-type {\n",
       "        vertical-align: middle;\n",
       "    }\n",
       "\n",
       "    .dataframe tbody tr th {\n",
       "        vertical-align: top;\n",
       "    }\n",
       "\n",
       "    .dataframe thead th {\n",
       "        text-align: right;\n",
       "    }\n",
       "</style>\n",
       "<table border=\"1\" class=\"dataframe\">\n",
       "  <thead>\n",
       "    <tr style=\"text-align: right;\">\n",
       "      <th>Months</th>\n",
       "      <th>1</th>\n",
       "      <th>2</th>\n",
       "      <th>3</th>\n",
       "      <th>4</th>\n",
       "      <th>5</th>\n",
       "      <th>6</th>\n",
       "      <th>7</th>\n",
       "      <th>8</th>\n",
       "      <th>9</th>\n",
       "      <th>10</th>\n",
       "    </tr>\n",
       "  </thead>\n",
       "  <tbody>\n",
       "    <tr>\n",
       "      <td>Clinton - Number of Memes</td>\n",
       "      <td>63</td>\n",
       "      <td>199</td>\n",
       "      <td>141</td>\n",
       "      <td>193</td>\n",
       "      <td>538</td>\n",
       "      <td>639</td>\n",
       "      <td>806</td>\n",
       "      <td>626</td>\n",
       "      <td>1619</td>\n",
       "      <td>8252</td>\n",
       "    </tr>\n",
       "    <tr>\n",
       "      <td>Clinton - Number of Likes</td>\n",
       "      <td>286315</td>\n",
       "      <td>495675</td>\n",
       "      <td>337315</td>\n",
       "      <td>472622</td>\n",
       "      <td>226418</td>\n",
       "      <td>274905</td>\n",
       "      <td>657005</td>\n",
       "      <td>273334</td>\n",
       "      <td>1637191</td>\n",
       "      <td>6299713</td>\n",
       "    </tr>\n",
       "    <tr>\n",
       "      <td>Trump - Number of Memes</td>\n",
       "      <td>208</td>\n",
       "      <td>231</td>\n",
       "      <td>619</td>\n",
       "      <td>564</td>\n",
       "      <td>1260</td>\n",
       "      <td>1060</td>\n",
       "      <td>1050</td>\n",
       "      <td>975</td>\n",
       "      <td>1952</td>\n",
       "      <td>10374</td>\n",
       "    </tr>\n",
       "    <tr>\n",
       "      <td>Trump - Number of Likes</td>\n",
       "      <td>1678358</td>\n",
       "      <td>1421197</td>\n",
       "      <td>3657215</td>\n",
       "      <td>2153273</td>\n",
       "      <td>746667</td>\n",
       "      <td>629530</td>\n",
       "      <td>1214077</td>\n",
       "      <td>789504</td>\n",
       "      <td>1745499</td>\n",
       "      <td>11568204</td>\n",
       "    </tr>\n",
       "  </tbody>\n",
       "</table>\n",
       "</div>"
      ],
      "text/plain": [
       "Months                          1        2        3        4       5       6   \\\n",
       "Clinton - Number of Memes       63      199      141      193     538     639   \n",
       "Clinton - Number of Likes   286315   495675   337315   472622  226418  274905   \n",
       "Trump - Number of Memes        208      231      619      564    1260    1060   \n",
       "Trump - Number of Likes    1678358  1421197  3657215  2153273  746667  629530   \n",
       "\n",
       "Months                          7       8        9         10  \n",
       "Clinton - Number of Memes      806     626     1619      8252  \n",
       "Clinton - Number of Likes   657005  273334  1637191   6299713  \n",
       "Trump - Number of Memes       1050     975     1952     10374  \n",
       "Trump - Number of Likes    1214077  789504  1745499  11568204  "
      ]
     },
     "execution_count": 29,
     "metadata": {},
     "output_type": "execute_result"
    }
   ],
   "source": [
    "memes_by_month.T"
   ]
  },
  {
   "cell_type": "code",
   "execution_count": null,
   "metadata": {},
   "outputs": [],
   "source": []
  },
  {
   "cell_type": "code",
   "execution_count": 30,
   "metadata": {},
   "outputs": [
    {
     "data": {
      "image/png": "[encoded data removed]",
      "text/plain": [
       "<Figure size 1152x720 with 1 Axes>"
      ]
     },
     "metadata": {
      "needs_background": "light"
     },
     "output_type": "display_data"
    }
   ],
   "source": [
    "# Let's graph these out to compare\n",
    "\n",
    "plt.figure(figsize=(16, 10))\n",
    "\n",
    "plt.plot(memes_by_month['Clinton - Number of Memes'], color='blue')\n",
    "plt.plot(memes_by_month['Trump - Number of Memes'], color='red');"
   ]
  },
  {
   "cell_type": "code",
   "execution_count": null,
   "metadata": {},
   "outputs": [],
   "source": []
  },
  {
   "cell_type": "code",
   "execution_count": 31,
   "metadata": {},
   "outputs": [],
   "source": [
    "# Creating columns showing the percent of total memes to aid with visulaization.\n",
    "\n",
    "memes_by_month['Total Memes'] = memes_by_month['Clinton - Number of Memes'] + memes_by_month['Trump - Number of Memes']\n",
    "memes_by_month['Clinton - Percent of Memes'] = round(memes_by_month['Clinton - Number of Memes'] / memes_by_month['Total Memes'] * 100)\n",
    "memes_by_month['Trump - Percent of Memes'] = round(memes_by_month['Trump - Number of Memes'] / memes_by_month['Total Memes'] * 100)"
   ]
  },
  {
   "cell_type": "code",
   "execution_count": 32,
   "metadata": {},
   "outputs": [
    {
     "data": {
      "text/html": [
       "<div>\n",
       "<style scoped>\n",
       "    .dataframe tbody tr th:only-of-type {\n",
       "        vertical-align: middle;\n",
       "    }\n",
       "\n",
       "    .dataframe tbody tr th {\n",
       "        vertical-align: top;\n",
       "    }\n",
       "\n",
       "    .dataframe thead th {\n",
       "        text-align: right;\n",
       "    }\n",
       "</style>\n",
       "<table border=\"1\" class=\"dataframe\">\n",
       "  <thead>\n",
       "    <tr style=\"text-align: right;\">\n",
       "      <th>Months</th>\n",
       "      <th>1</th>\n",
       "      <th>2</th>\n",
       "      <th>3</th>\n",
       "      <th>4</th>\n",
       "      <th>5</th>\n",
       "      <th>6</th>\n",
       "      <th>7</th>\n",
       "      <th>8</th>\n",
       "      <th>9</th>\n",
       "      <th>10</th>\n",
       "    </tr>\n",
       "  </thead>\n",
       "  <tbody>\n",
       "    <tr>\n",
       "      <td>Clinton - Number of Memes</td>\n",
       "      <td>63.0</td>\n",
       "      <td>199.0</td>\n",
       "      <td>141.0</td>\n",
       "      <td>193.0</td>\n",
       "      <td>538.0</td>\n",
       "      <td>639.0</td>\n",
       "      <td>806.0</td>\n",
       "      <td>626.0</td>\n",
       "      <td>1619.0</td>\n",
       "      <td>8252.0</td>\n",
       "    </tr>\n",
       "    <tr>\n",
       "      <td>Clinton - Number of Likes</td>\n",
       "      <td>286315.0</td>\n",
       "      <td>495675.0</td>\n",
       "      <td>337315.0</td>\n",
       "      <td>472622.0</td>\n",
       "      <td>226418.0</td>\n",
       "      <td>274905.0</td>\n",
       "      <td>657005.0</td>\n",
       "      <td>273334.0</td>\n",
       "      <td>1637191.0</td>\n",
       "      <td>6299713.0</td>\n",
       "    </tr>\n",
       "    <tr>\n",
       "      <td>Trump - Number of Memes</td>\n",
       "      <td>208.0</td>\n",
       "      <td>231.0</td>\n",
       "      <td>619.0</td>\n",
       "      <td>564.0</td>\n",
       "      <td>1260.0</td>\n",
       "      <td>1060.0</td>\n",
       "      <td>1050.0</td>\n",
       "      <td>975.0</td>\n",
       "      <td>1952.0</td>\n",
       "      <td>10374.0</td>\n",
       "    </tr>\n",
       "    <tr>\n",
       "      <td>Trump - Number of Likes</td>\n",
       "      <td>1678358.0</td>\n",
       "      <td>1421197.0</td>\n",
       "      <td>3657215.0</td>\n",
       "      <td>2153273.0</td>\n",
       "      <td>746667.0</td>\n",
       "      <td>629530.0</td>\n",
       "      <td>1214077.0</td>\n",
       "      <td>789504.0</td>\n",
       "      <td>1745499.0</td>\n",
       "      <td>11568204.0</td>\n",
       "    </tr>\n",
       "    <tr>\n",
       "      <td>Total Memes</td>\n",
       "      <td>271.0</td>\n",
       "      <td>430.0</td>\n",
       "      <td>760.0</td>\n",
       "      <td>757.0</td>\n",
       "      <td>1798.0</td>\n",
       "      <td>1699.0</td>\n",
       "      <td>1856.0</td>\n",
       "      <td>1601.0</td>\n",
       "      <td>3571.0</td>\n",
       "      <td>18626.0</td>\n",
       "    </tr>\n",
       "    <tr>\n",
       "      <td>Clinton - Percent of Memes</td>\n",
       "      <td>23.0</td>\n",
       "      <td>46.0</td>\n",
       "      <td>19.0</td>\n",
       "      <td>25.0</td>\n",
       "      <td>30.0</td>\n",
       "      <td>38.0</td>\n",
       "      <td>43.0</td>\n",
       "      <td>39.0</td>\n",
       "      <td>45.0</td>\n",
       "      <td>44.0</td>\n",
       "    </tr>\n",
       "    <tr>\n",
       "      <td>Trump - Percent of Memes</td>\n",
       "      <td>77.0</td>\n",
       "      <td>54.0</td>\n",
       "      <td>81.0</td>\n",
       "      <td>75.0</td>\n",
       "      <td>70.0</td>\n",
       "      <td>62.0</td>\n",
       "      <td>57.0</td>\n",
       "      <td>61.0</td>\n",
       "      <td>55.0</td>\n",
       "      <td>56.0</td>\n",
       "    </tr>\n",
       "  </tbody>\n",
       "</table>\n",
       "</div>"
      ],
      "text/plain": [
       "Months                             1          2          3          4   \\\n",
       "Clinton - Number of Memes        63.0      199.0      141.0      193.0   \n",
       "Clinton - Number of Likes    286315.0   495675.0   337315.0   472622.0   \n",
       "Trump - Number of Memes         208.0      231.0      619.0      564.0   \n",
       "Trump - Number of Likes     1678358.0  1421197.0  3657215.0  2153273.0   \n",
       "Total Memes                     271.0      430.0      760.0      757.0   \n",
       "Clinton - Percent of Memes       23.0       46.0       19.0       25.0   \n",
       "Trump - Percent of Memes         77.0       54.0       81.0       75.0   \n",
       "\n",
       "Months                            5         6          7         8   \\\n",
       "Clinton - Number of Memes      538.0     639.0      806.0     626.0   \n",
       "Clinton - Number of Likes   226418.0  274905.0   657005.0  273334.0   \n",
       "Trump - Number of Memes       1260.0    1060.0     1050.0     975.0   \n",
       "Trump - Number of Likes     746667.0  629530.0  1214077.0  789504.0   \n",
       "Total Memes                   1798.0    1699.0     1856.0    1601.0   \n",
       "Clinton - Percent of Memes      30.0      38.0       43.0      39.0   \n",
       "Trump - Percent of Memes        70.0      62.0       57.0      61.0   \n",
       "\n",
       "Months                             9           10  \n",
       "Clinton - Number of Memes      1619.0      8252.0  \n",
       "Clinton - Number of Likes   1637191.0   6299713.0  \n",
       "Trump - Number of Memes        1952.0     10374.0  \n",
       "Trump - Number of Likes     1745499.0  11568204.0  \n",
       "Total Memes                    3571.0     18626.0  \n",
       "Clinton - Percent of Memes       45.0        44.0  \n",
       "Trump - Percent of Memes         55.0        56.0  "
      ]
     },
     "execution_count": 32,
     "metadata": {},
     "output_type": "execute_result"
    }
   ],
   "source": [
    "memes_by_month.T"
   ]
  },
  {
   "cell_type": "code",
   "execution_count": null,
   "metadata": {},
   "outputs": [],
   "source": []
  },
  {
   "cell_type": "code",
   "execution_count": 33,
   "metadata": {},
   "outputs": [
    {
     "data": {
      "image/png": "[encoded data removed]",
      "text/plain": [
       "<Figure size 1152x720 with 1 Axes>"
      ]
     },
     "metadata": {
      "needs_background": "light"
     },
     "output_type": "display_data"
    }
   ],
   "source": [
    "# And let's see the graph\n",
    "\n",
    "plt.figure(figsize=(16, 10))\n",
    "\n",
    "plt.title('Trump Won The Meme War', size=36)\n",
    "plt.xlabel('Weeks of 2016', size=32)\n",
    "plt.ylabel('Percent of Memes', size=32)\n",
    "plt.text(x=10, y=49.64, s='50%', size=16)\n",
    "\n",
    "plt.hlines(y=50, xmin=1, xmax=10, color='black', linestyle='dashed')\n",
    "\n",
    "# plt.plot(memes_by_month['Clinton - Percent of Memes'], color='blue');\n",
    "plt.plot(memes_by_month['Trump - Percent of Memes'], color='red');"
   ]
  },
  {
   "cell_type": "code",
   "execution_count": null,
   "metadata": {},
   "outputs": [],
   "source": []
  },
  {
   "cell_type": "markdown",
   "metadata": {},
   "source": [
    "## Polling Data"
   ]
  },
  {
   "cell_type": "code",
   "execution_count": 34,
   "metadata": {},
   "outputs": [],
   "source": [
    "# Import the webscrapping libraries\n",
    "\n",
    "from bs4 import BeautifulSoup\n",
    "import requests\n",
    "import lxml.html as lh"
   ]
  },
  {
   "cell_type": "code",
   "execution_count": 35,
   "metadata": {},
   "outputs": [],
   "source": [
    "# Scrape polling data from realclearpolitics\n",
    "\n",
    "url = 'https://www.realclearpolitics.com/epolls/2016/president/us/general_election_trump_vs_clinton-5491.html#polls'\n",
    "res = requests.get(url)"
   ]
  },
  {
   "cell_type": "code",
   "execution_count": 36,
   "metadata": {},
   "outputs": [
    {
     "data": {
      "text/plain": [
       "200"
      ]
     },
     "execution_count": 36,
     "metadata": {},
     "output_type": "execute_result"
    }
   ],
   "source": [
    "res.status_code"
   ]
  },
  {
   "cell_type": "code",
   "execution_count": 37,
   "metadata": {},
   "outputs": [],
   "source": [
    "# Extract the table of polling data\n",
    "\n",
    "soup = BeautifulSoup(res.content, 'lxml')\n",
    "\n",
    "table = soup.find('table', {'class', 'data large'})"
   ]
  },
  {
   "cell_type": "code",
   "execution_count": 38,
   "metadata": {},
   "outputs": [
    {
     "data": {
      "text/html": [
       "<div>\n",
       "<style scoped>\n",
       "    .dataframe tbody tr th:only-of-type {\n",
       "        vertical-align: middle;\n",
       "    }\n",
       "\n",
       "    .dataframe tbody tr th {\n",
       "        vertical-align: top;\n",
       "    }\n",
       "\n",
       "    .dataframe thead th {\n",
       "        text-align: right;\n",
       "    }\n",
       "</style>\n",
       "<table border=\"1\" class=\"dataframe\">\n",
       "  <thead>\n",
       "    <tr style=\"text-align: right;\">\n",
       "      <th></th>\n",
       "      <th>0</th>\n",
       "      <th>1</th>\n",
       "      <th>2</th>\n",
       "      <th>3</th>\n",
       "      <th>4</th>\n",
       "      <th>5</th>\n",
       "      <th>6</th>\n",
       "    </tr>\n",
       "  </thead>\n",
       "  <tbody>\n",
       "    <tr>\n",
       "      <td>0</td>\n",
       "      <td>[Poll]</td>\n",
       "      <td>[Date]</td>\n",
       "      <td>[Sample]</td>\n",
       "      <td>[MoE]</td>\n",
       "      <td>[[[Clinton (D)]]]</td>\n",
       "      <td>[[[Trump (R)]]]</td>\n",
       "      <td>[Spread]</td>\n",
       "    </tr>\n",
       "    <tr>\n",
       "      <td>1</td>\n",
       "      <td>[[Final Results]]</td>\n",
       "      <td>[--]</td>\n",
       "      <td>[--]</td>\n",
       "      <td>[--]</td>\n",
       "      <td>[48.2]</td>\n",
       "      <td>[46.1]</td>\n",
       "      <td>[[Clinton +2.1]]</td>\n",
       "    </tr>\n",
       "    <tr>\n",
       "      <td>2</td>\n",
       "      <td>[RCP Average]</td>\n",
       "      <td>[11/1 - 11/7]</td>\n",
       "      <td>[--]</td>\n",
       "      <td>[--]</td>\n",
       "      <td>[46.8]</td>\n",
       "      <td>[43.6]</td>\n",
       "      <td>[[Clinton +3.2]]</td>\n",
       "    </tr>\n",
       "    <tr>\n",
       "      <td>3</td>\n",
       "      <td>[[Bloomberg], [Bloomberg]]</td>\n",
       "      <td>[11/4 - 11/6]</td>\n",
       "      <td>[799 LV]</td>\n",
       "      <td>[3.5]</td>\n",
       "      <td>[46]</td>\n",
       "      <td>[43]</td>\n",
       "      <td>[[Clinton +3]]</td>\n",
       "    </tr>\n",
       "    <tr>\n",
       "      <td>4</td>\n",
       "      <td>[[IBD/TIPP Tracking], [IBD/TIPP Tracking]]</td>\n",
       "      <td>[11/4 - 11/7]</td>\n",
       "      <td>[1107 LV]</td>\n",
       "      <td>[3.1]</td>\n",
       "      <td>[43]</td>\n",
       "      <td>[42]</td>\n",
       "      <td>[[Clinton +1]]</td>\n",
       "    </tr>\n",
       "    <tr>\n",
       "      <td>5</td>\n",
       "      <td>[[Economist/YouGov], [Economist]]</td>\n",
       "      <td>[11/4 - 11/7]</td>\n",
       "      <td>[3669 LV]</td>\n",
       "      <td>[--]</td>\n",
       "      <td>[49]</td>\n",
       "      <td>[45]</td>\n",
       "      <td>[[Clinton +4]]</td>\n",
       "    </tr>\n",
       "    <tr>\n",
       "      <td>6</td>\n",
       "      <td>[[LA Times/USC Tracking], [LA Times]]</td>\n",
       "      <td>[11/1 - 11/7]</td>\n",
       "      <td>[2935 LV]</td>\n",
       "      <td>[4.5]</td>\n",
       "      <td>[44]</td>\n",
       "      <td>[47]</td>\n",
       "      <td>[[Trump +3]]</td>\n",
       "    </tr>\n",
       "    <tr>\n",
       "      <td>7</td>\n",
       "      <td>[[ABC/Wash Post Tracking], [ABC/WP Tracking]]</td>\n",
       "      <td>[11/3 - 11/6]</td>\n",
       "      <td>[2220 LV]</td>\n",
       "      <td>[2.5]</td>\n",
       "      <td>[49]</td>\n",
       "      <td>[46]</td>\n",
       "      <td>[[Clinton +3]]</td>\n",
       "    </tr>\n",
       "    <tr>\n",
       "      <td>8</td>\n",
       "      <td>[[FOX News], [FOX News]]</td>\n",
       "      <td>[11/3 - 11/6]</td>\n",
       "      <td>[1295 LV]</td>\n",
       "      <td>[2.5]</td>\n",
       "      <td>[48]</td>\n",
       "      <td>[44]</td>\n",
       "      <td>[[Clinton +4]]</td>\n",
       "    </tr>\n",
       "    <tr>\n",
       "      <td>9</td>\n",
       "      <td>[[Monmouth], [Monmouth]]</td>\n",
       "      <td>[11/3 - 11/6]</td>\n",
       "      <td>[748 LV]</td>\n",
       "      <td>[3.6]</td>\n",
       "      <td>[50]</td>\n",
       "      <td>[44]</td>\n",
       "      <td>[[Clinton +6]]</td>\n",
       "    </tr>\n",
       "    <tr>\n",
       "      <td>10</td>\n",
       "      <td>[[NBC News/Wall St. Jrnl], [NBC/WSJ]]</td>\n",
       "      <td>[11/3 - 11/5]</td>\n",
       "      <td>[1282 LV]</td>\n",
       "      <td>[2.7]</td>\n",
       "      <td>[48]</td>\n",
       "      <td>[43]</td>\n",
       "      <td>[[Clinton +5]]</td>\n",
       "    </tr>\n",
       "    <tr>\n",
       "      <td>11</td>\n",
       "      <td>[[CBS News], [CBS News]]</td>\n",
       "      <td>[11/2 - 11/6]</td>\n",
       "      <td>[1426 LV]</td>\n",
       "      <td>[3.0]</td>\n",
       "      <td>[47]</td>\n",
       "      <td>[43]</td>\n",
       "      <td>[[Clinton +4]]</td>\n",
       "    </tr>\n",
       "    <tr>\n",
       "      <td>12</td>\n",
       "      <td>[[Reuters/Ipsos], [Reuters]]</td>\n",
       "      <td>[11/2 - 11/6]</td>\n",
       "      <td>[2196 LV]</td>\n",
       "      <td>[2.3]</td>\n",
       "      <td>[44]</td>\n",
       "      <td>[39]</td>\n",
       "      <td>[[Clinton +5]]</td>\n",
       "    </tr>\n",
       "  </tbody>\n",
       "</table>\n",
       "</div>"
      ],
      "text/plain": [
       "                                                0              1          2  \\\n",
       "0                                          [Poll]         [Date]   [Sample]   \n",
       "1                               [[Final Results]]           [--]       [--]   \n",
       "2                                   [RCP Average]  [11/1 - 11/7]       [--]   \n",
       "3                      [[Bloomberg], [Bloomberg]]  [11/4 - 11/6]   [799 LV]   \n",
       "4      [[IBD/TIPP Tracking], [IBD/TIPP Tracking]]  [11/4 - 11/7]  [1107 LV]   \n",
       "5               [[Economist/YouGov], [Economist]]  [11/4 - 11/7]  [3669 LV]   \n",
       "6           [[LA Times/USC Tracking], [LA Times]]  [11/1 - 11/7]  [2935 LV]   \n",
       "7   [[ABC/Wash Post Tracking], [ABC/WP Tracking]]  [11/3 - 11/6]  [2220 LV]   \n",
       "8                        [[FOX News], [FOX News]]  [11/3 - 11/6]  [1295 LV]   \n",
       "9                        [[Monmouth], [Monmouth]]  [11/3 - 11/6]   [748 LV]   \n",
       "10          [[NBC News/Wall St. Jrnl], [NBC/WSJ]]  [11/3 - 11/5]  [1282 LV]   \n",
       "11                       [[CBS News], [CBS News]]  [11/2 - 11/6]  [1426 LV]   \n",
       "12                   [[Reuters/Ipsos], [Reuters]]  [11/2 - 11/6]  [2196 LV]   \n",
       "\n",
       "        3                  4                5                 6  \n",
       "0   [MoE]  [[[Clinton (D)]]]  [[[Trump (R)]]]          [Spread]  \n",
       "1    [--]             [48.2]           [46.1]  [[Clinton +2.1]]  \n",
       "2    [--]             [46.8]           [43.6]  [[Clinton +3.2]]  \n",
       "3   [3.5]               [46]             [43]    [[Clinton +3]]  \n",
       "4   [3.1]               [43]             [42]    [[Clinton +1]]  \n",
       "5    [--]               [49]             [45]    [[Clinton +4]]  \n",
       "6   [4.5]               [44]             [47]      [[Trump +3]]  \n",
       "7   [2.5]               [49]             [46]    [[Clinton +3]]  \n",
       "8   [2.5]               [48]             [44]    [[Clinton +4]]  \n",
       "9   [3.6]               [50]             [44]    [[Clinton +6]]  \n",
       "10  [2.7]               [48]             [43]    [[Clinton +5]]  \n",
       "11  [3.0]               [47]             [43]    [[Clinton +4]]  \n",
       "12  [2.3]               [44]             [39]    [[Clinton +5]]  "
      ]
     },
     "execution_count": 38,
     "metadata": {},
     "output_type": "execute_result"
    }
   ],
   "source": [
    "# It's only getting the first 12 because the table is collapsed, so I'll just do it the easy way for now\n",
    "\n",
    "pd.DataFrame(table)"
   ]
  },
  {
   "cell_type": "code",
   "execution_count": null,
   "metadata": {},
   "outputs": [],
   "source": []
  },
  {
   "cell_type": "markdown",
   "metadata": {},
   "source": [
    "### Copy Pasted CSV"
   ]
  },
  {
   "cell_type": "code",
   "execution_count": 51,
   "metadata": {},
   "outputs": [],
   "source": [
    "# This is the data from all Clinton v Trump polls leading up to the 2016 election \n",
    "\n",
    "polling_data = pd.read_csv(\"Poll Data.csv\")"
   ]
  },
  {
   "cell_type": "code",
   "execution_count": 52,
   "metadata": {},
   "outputs": [],
   "source": [
    "# Drop Final Result, since it's technically not a poll\n",
    "\n",
    "polling_data = polling_data.drop(index=0)"
   ]
  },
  {
   "cell_type": "code",
   "execution_count": 53,
   "metadata": {},
   "outputs": [],
   "source": [
    "# Make the Data column strings\n",
    "\n",
    "polling_data['Date'] = polling_data['Date'].astype(str)"
   ]
  },
  {
   "cell_type": "code",
   "execution_count": 54,
   "metadata": {},
   "outputs": [],
   "source": [
    "# Make a new column for the end date of each poll\n",
    "\n",
    "polling_data[['Start Date','End Date']] = polling_data['Date'].str.split(' - ', expand=True)"
   ]
  },
  {
   "cell_type": "code",
   "execution_count": 55,
   "metadata": {},
   "outputs": [
    {
     "data": {
      "text/html": [
       "<div>\n",
       "<style scoped>\n",
       "    .dataframe tbody tr th:only-of-type {\n",
       "        vertical-align: middle;\n",
       "    }\n",
       "\n",
       "    .dataframe tbody tr th {\n",
       "        vertical-align: top;\n",
       "    }\n",
       "\n",
       "    .dataframe thead th {\n",
       "        text-align: right;\n",
       "    }\n",
       "</style>\n",
       "<table border=\"1\" class=\"dataframe\">\n",
       "  <thead>\n",
       "    <tr style=\"text-align: right;\">\n",
       "      <th></th>\n",
       "      <th>Poll</th>\n",
       "      <th>Date</th>\n",
       "      <th>Sample</th>\n",
       "      <th>MoE</th>\n",
       "      <th>Clinton (D)</th>\n",
       "      <th>Trump (R)</th>\n",
       "      <th>Spread</th>\n",
       "      <th>Start Date</th>\n",
       "      <th>End Date</th>\n",
       "    </tr>\n",
       "  </thead>\n",
       "  <tbody>\n",
       "    <tr>\n",
       "      <td>1</td>\n",
       "      <td>RCP Average</td>\n",
       "      <td>11/1 - 11/7</td>\n",
       "      <td>--</td>\n",
       "      <td>--</td>\n",
       "      <td>46.8</td>\n",
       "      <td>43.6</td>\n",
       "      <td>Clinton +3.2</td>\n",
       "      <td>11/1</td>\n",
       "      <td>11/7</td>\n",
       "    </tr>\n",
       "    <tr>\n",
       "      <td>2</td>\n",
       "      <td>Bloomberg</td>\n",
       "      <td>11/4 - 11/6</td>\n",
       "      <td>799 LV</td>\n",
       "      <td>3.5</td>\n",
       "      <td>46.0</td>\n",
       "      <td>43.0</td>\n",
       "      <td>Clinton +3</td>\n",
       "      <td>11/4</td>\n",
       "      <td>11/6</td>\n",
       "    </tr>\n",
       "    <tr>\n",
       "      <td>3</td>\n",
       "      <td>IBD/TIPP Tracking</td>\n",
       "      <td>11/4 - 11/7</td>\n",
       "      <td>1107 LV</td>\n",
       "      <td>3.1</td>\n",
       "      <td>43.0</td>\n",
       "      <td>42.0</td>\n",
       "      <td>Clinton +1</td>\n",
       "      <td>11/4</td>\n",
       "      <td>11/7</td>\n",
       "    </tr>\n",
       "    <tr>\n",
       "      <td>4</td>\n",
       "      <td>Economist/YouGov</td>\n",
       "      <td>11/4 - 11/7</td>\n",
       "      <td>3669 LV</td>\n",
       "      <td>--</td>\n",
       "      <td>49.0</td>\n",
       "      <td>45.0</td>\n",
       "      <td>Clinton +4</td>\n",
       "      <td>11/4</td>\n",
       "      <td>11/7</td>\n",
       "    </tr>\n",
       "    <tr>\n",
       "      <td>5</td>\n",
       "      <td>LA Times/USC Tracking</td>\n",
       "      <td>11/1 - 11/7</td>\n",
       "      <td>2935 LV</td>\n",
       "      <td>4.5</td>\n",
       "      <td>44.0</td>\n",
       "      <td>47.0</td>\n",
       "      <td>Trump +3</td>\n",
       "      <td>11/1</td>\n",
       "      <td>11/7</td>\n",
       "    </tr>\n",
       "    <tr>\n",
       "      <td>...</td>\n",
       "      <td>...</td>\n",
       "      <td>...</td>\n",
       "      <td>...</td>\n",
       "      <td>...</td>\n",
       "      <td>...</td>\n",
       "      <td>...</td>\n",
       "      <td>...</td>\n",
       "      <td>...</td>\n",
       "      <td>...</td>\n",
       "    </tr>\n",
       "    <tr>\n",
       "      <td>256</td>\n",
       "      <td>PPP (D)</td>\n",
       "      <td>7/20 - 7/21</td>\n",
       "      <td>1087 RV</td>\n",
       "      <td>3</td>\n",
       "      <td>50.0</td>\n",
       "      <td>37.0</td>\n",
       "      <td>Clinton +13</td>\n",
       "      <td>7/20</td>\n",
       "      <td>7/21</td>\n",
       "    </tr>\n",
       "    <tr>\n",
       "      <td>257</td>\n",
       "      <td>USA Today/Suffolk</td>\n",
       "      <td>7/9 - 7/12</td>\n",
       "      <td>1000 LV</td>\n",
       "      <td>3</td>\n",
       "      <td>51.0</td>\n",
       "      <td>34.0</td>\n",
       "      <td>Clinton +17</td>\n",
       "      <td>7/9</td>\n",
       "      <td>7/12</td>\n",
       "    </tr>\n",
       "    <tr>\n",
       "      <td>258</td>\n",
       "      <td>CNN/Opinion Research</td>\n",
       "      <td>6/26 - 6/28</td>\n",
       "      <td>890 RV</td>\n",
       "      <td>3.5</td>\n",
       "      <td>59.0</td>\n",
       "      <td>35.0</td>\n",
       "      <td>Clinton +24</td>\n",
       "      <td>6/26</td>\n",
       "      <td>6/28</td>\n",
       "    </tr>\n",
       "    <tr>\n",
       "      <td>259</td>\n",
       "      <td>FOX News</td>\n",
       "      <td>6/21 - 6/23</td>\n",
       "      <td>1005 RV</td>\n",
       "      <td>3</td>\n",
       "      <td>51.0</td>\n",
       "      <td>34.0</td>\n",
       "      <td>Clinton +17</td>\n",
       "      <td>6/21</td>\n",
       "      <td>6/23</td>\n",
       "    </tr>\n",
       "    <tr>\n",
       "      <td>260</td>\n",
       "      <td>Quinnipiac</td>\n",
       "      <td>5/19 - 5/26</td>\n",
       "      <td>1711 RV</td>\n",
       "      <td>2.4</td>\n",
       "      <td>50.0</td>\n",
       "      <td>32.0</td>\n",
       "      <td>Clinton +18</td>\n",
       "      <td>5/19</td>\n",
       "      <td>5/26</td>\n",
       "    </tr>\n",
       "  </tbody>\n",
       "</table>\n",
       "<p>260 rows × 9 columns</p>\n",
       "</div>"
      ],
      "text/plain": [
       "                      Poll         Date   Sample  MoE  Clinton (D)  Trump (R)  \\\n",
       "1              RCP Average  11/1 - 11/7       --   --         46.8       43.6   \n",
       "2                Bloomberg  11/4 - 11/6   799 LV  3.5         46.0       43.0   \n",
       "3        IBD/TIPP Tracking  11/4 - 11/7  1107 LV  3.1         43.0       42.0   \n",
       "4         Economist/YouGov  11/4 - 11/7  3669 LV   --         49.0       45.0   \n",
       "5    LA Times/USC Tracking  11/1 - 11/7  2935 LV  4.5         44.0       47.0   \n",
       "..                     ...          ...      ...  ...          ...        ...   \n",
       "256                PPP (D)  7/20 - 7/21  1087 RV    3         50.0       37.0   \n",
       "257      USA Today/Suffolk   7/9 - 7/12  1000 LV    3         51.0       34.0   \n",
       "258   CNN/Opinion Research  6/26 - 6/28   890 RV  3.5         59.0       35.0   \n",
       "259               FOX News  6/21 - 6/23  1005 RV    3         51.0       34.0   \n",
       "260             Quinnipiac  5/19 - 5/26  1711 RV  2.4         50.0       32.0   \n",
       "\n",
       "           Spread Start Date End Date  \n",
       "1    Clinton +3.2       11/1     11/7  \n",
       "2      Clinton +3       11/4     11/6  \n",
       "3      Clinton +1       11/4     11/7  \n",
       "4      Clinton +4       11/4     11/7  \n",
       "5        Trump +3       11/1     11/7  \n",
       "..            ...        ...      ...  \n",
       "256   Clinton +13       7/20     7/21  \n",
       "257   Clinton +17        7/9     7/12  \n",
       "258   Clinton +24       6/26     6/28  \n",
       "259   Clinton +17       6/21     6/23  \n",
       "260   Clinton +18       5/19     5/26  \n",
       "\n",
       "[260 rows x 9 columns]"
      ]
     },
     "execution_count": 55,
     "metadata": {},
     "output_type": "execute_result"
    }
   ],
   "source": [
    "polling_data"
   ]
  },
  {
   "cell_type": "code",
   "execution_count": 56,
   "metadata": {},
   "outputs": [],
   "source": [
    "# Remove the polling data from 2015\n",
    "\n",
    "polling_data = polling_data[:222]"
   ]
  },
  {
   "cell_type": "code",
   "execution_count": 57,
   "metadata": {},
   "outputs": [
    {
     "data": {
      "text/html": [
       "<div>\n",
       "<style scoped>\n",
       "    .dataframe tbody tr th:only-of-type {\n",
       "        vertical-align: middle;\n",
       "    }\n",
       "\n",
       "    .dataframe tbody tr th {\n",
       "        vertical-align: top;\n",
       "    }\n",
       "\n",
       "    .dataframe thead th {\n",
       "        text-align: right;\n",
       "    }\n",
       "</style>\n",
       "<table border=\"1\" class=\"dataframe\">\n",
       "  <thead>\n",
       "    <tr style=\"text-align: right;\">\n",
       "      <th></th>\n",
       "      <th>Poll</th>\n",
       "      <th>Date</th>\n",
       "      <th>Sample</th>\n",
       "      <th>MoE</th>\n",
       "      <th>Clinton (D)</th>\n",
       "      <th>Trump (R)</th>\n",
       "      <th>Spread</th>\n",
       "      <th>Start Date</th>\n",
       "      <th>End Date</th>\n",
       "    </tr>\n",
       "  </thead>\n",
       "  <tbody>\n",
       "    <tr>\n",
       "      <td>1</td>\n",
       "      <td>RCP Average</td>\n",
       "      <td>11/1 - 11/7</td>\n",
       "      <td>--</td>\n",
       "      <td>--</td>\n",
       "      <td>46.8</td>\n",
       "      <td>43.6</td>\n",
       "      <td>Clinton +3.2</td>\n",
       "      <td>11/1</td>\n",
       "      <td>11/7</td>\n",
       "    </tr>\n",
       "    <tr>\n",
       "      <td>2</td>\n",
       "      <td>Bloomberg</td>\n",
       "      <td>11/4 - 11/6</td>\n",
       "      <td>799 LV</td>\n",
       "      <td>3.5</td>\n",
       "      <td>46.0</td>\n",
       "      <td>43.0</td>\n",
       "      <td>Clinton +3</td>\n",
       "      <td>11/4</td>\n",
       "      <td>11/6</td>\n",
       "    </tr>\n",
       "    <tr>\n",
       "      <td>3</td>\n",
       "      <td>IBD/TIPP Tracking</td>\n",
       "      <td>11/4 - 11/7</td>\n",
       "      <td>1107 LV</td>\n",
       "      <td>3.1</td>\n",
       "      <td>43.0</td>\n",
       "      <td>42.0</td>\n",
       "      <td>Clinton +1</td>\n",
       "      <td>11/4</td>\n",
       "      <td>11/7</td>\n",
       "    </tr>\n",
       "    <tr>\n",
       "      <td>4</td>\n",
       "      <td>Economist/YouGov</td>\n",
       "      <td>11/4 - 11/7</td>\n",
       "      <td>3669 LV</td>\n",
       "      <td>--</td>\n",
       "      <td>49.0</td>\n",
       "      <td>45.0</td>\n",
       "      <td>Clinton +4</td>\n",
       "      <td>11/4</td>\n",
       "      <td>11/7</td>\n",
       "    </tr>\n",
       "    <tr>\n",
       "      <td>5</td>\n",
       "      <td>LA Times/USC Tracking</td>\n",
       "      <td>11/1 - 11/7</td>\n",
       "      <td>2935 LV</td>\n",
       "      <td>4.5</td>\n",
       "      <td>44.0</td>\n",
       "      <td>47.0</td>\n",
       "      <td>Trump +3</td>\n",
       "      <td>11/1</td>\n",
       "      <td>11/7</td>\n",
       "    </tr>\n",
       "    <tr>\n",
       "      <td>...</td>\n",
       "      <td>...</td>\n",
       "      <td>...</td>\n",
       "      <td>...</td>\n",
       "      <td>...</td>\n",
       "      <td>...</td>\n",
       "      <td>...</td>\n",
       "      <td>...</td>\n",
       "      <td>...</td>\n",
       "      <td>...</td>\n",
       "    </tr>\n",
       "    <tr>\n",
       "      <td>218</td>\n",
       "      <td>Quinnipiac</td>\n",
       "      <td>2/10 - 2/15</td>\n",
       "      <td>1342 RV</td>\n",
       "      <td>2.7</td>\n",
       "      <td>44.0</td>\n",
       "      <td>43.0</td>\n",
       "      <td>Clinton +1</td>\n",
       "      <td>2/10</td>\n",
       "      <td>2/15</td>\n",
       "    </tr>\n",
       "    <tr>\n",
       "      <td>219</td>\n",
       "      <td>Quinnipiac</td>\n",
       "      <td>2/2 - 2/4</td>\n",
       "      <td>1125 RV</td>\n",
       "      <td>2.9</td>\n",
       "      <td>46.0</td>\n",
       "      <td>41.0</td>\n",
       "      <td>Clinton +5</td>\n",
       "      <td>2/2</td>\n",
       "      <td>2/4</td>\n",
       "    </tr>\n",
       "    <tr>\n",
       "      <td>220</td>\n",
       "      <td>PPP (D)</td>\n",
       "      <td>2/2 - 2/3</td>\n",
       "      <td>1236 RV</td>\n",
       "      <td>2.8</td>\n",
       "      <td>47.0</td>\n",
       "      <td>40.0</td>\n",
       "      <td>Clinton +7</td>\n",
       "      <td>2/2</td>\n",
       "      <td>2/3</td>\n",
       "    </tr>\n",
       "    <tr>\n",
       "      <td>221</td>\n",
       "      <td>NBC News/Wall St. Jrnl</td>\n",
       "      <td>1/9 - 1/13</td>\n",
       "      <td>800 RV</td>\n",
       "      <td>3.5</td>\n",
       "      <td>51.0</td>\n",
       "      <td>41.0</td>\n",
       "      <td>Clinton +10</td>\n",
       "      <td>1/9</td>\n",
       "      <td>1/13</td>\n",
       "    </tr>\n",
       "    <tr>\n",
       "      <td>222</td>\n",
       "      <td>FOX News</td>\n",
       "      <td>1/4 - 1/7</td>\n",
       "      <td>1006 RV</td>\n",
       "      <td>3</td>\n",
       "      <td>44.0</td>\n",
       "      <td>47.0</td>\n",
       "      <td>Trump +3</td>\n",
       "      <td>1/4</td>\n",
       "      <td>1/7</td>\n",
       "    </tr>\n",
       "  </tbody>\n",
       "</table>\n",
       "<p>222 rows × 9 columns</p>\n",
       "</div>"
      ],
      "text/plain": [
       "                       Poll         Date   Sample  MoE  Clinton (D)  \\\n",
       "1               RCP Average  11/1 - 11/7       --   --         46.8   \n",
       "2                 Bloomberg  11/4 - 11/6   799 LV  3.5         46.0   \n",
       "3         IBD/TIPP Tracking  11/4 - 11/7  1107 LV  3.1         43.0   \n",
       "4          Economist/YouGov  11/4 - 11/7  3669 LV   --         49.0   \n",
       "5     LA Times/USC Tracking  11/1 - 11/7  2935 LV  4.5         44.0   \n",
       "..                      ...          ...      ...  ...          ...   \n",
       "218              Quinnipiac  2/10 - 2/15  1342 RV  2.7         44.0   \n",
       "219              Quinnipiac    2/2 - 2/4  1125 RV  2.9         46.0   \n",
       "220                 PPP (D)    2/2 - 2/3  1236 RV  2.8         47.0   \n",
       "221  NBC News/Wall St. Jrnl   1/9 - 1/13   800 RV  3.5         51.0   \n",
       "222                FOX News    1/4 - 1/7  1006 RV    3         44.0   \n",
       "\n",
       "     Trump (R)        Spread Start Date End Date  \n",
       "1         43.6  Clinton +3.2       11/1     11/7  \n",
       "2         43.0    Clinton +3       11/4     11/6  \n",
       "3         42.0    Clinton +1       11/4     11/7  \n",
       "4         45.0    Clinton +4       11/4     11/7  \n",
       "5         47.0      Trump +3       11/1     11/7  \n",
       "..         ...           ...        ...      ...  \n",
       "218       43.0    Clinton +1       2/10     2/15  \n",
       "219       41.0    Clinton +5        2/2      2/4  \n",
       "220       40.0    Clinton +7        2/2      2/3  \n",
       "221       41.0   Clinton +10        1/9     1/13  \n",
       "222       47.0      Trump +3        1/4      1/7  \n",
       "\n",
       "[222 rows x 9 columns]"
      ]
     },
     "execution_count": 57,
     "metadata": {},
     "output_type": "execute_result"
    }
   ],
   "source": [
    "polling_data"
   ]
  },
  {
   "cell_type": "code",
   "execution_count": 58,
   "metadata": {},
   "outputs": [
    {
     "name": "stderr",
     "output_type": "stream",
     "text": [
      "C:\\Users\\nolan\\Anaconda3\\lib\\site-packages\\ipykernel_launcher.py:1: SettingWithCopyWarning: \n",
      "A value is trying to be set on a copy of a slice from a DataFrame.\n",
      "Try using .loc[row_indexer,col_indexer] = value instead\n",
      "\n",
      "See the caveats in the documentation: http://pandas.pydata.org/pandas-docs/stable/user_guide/indexing.html#returning-a-view-versus-a-copy\n",
      "  \"\"\"Entry point for launching an IPython kernel.\n",
      "C:\\Users\\nolan\\Anaconda3\\lib\\site-packages\\ipykernel_launcher.py:2: SettingWithCopyWarning: \n",
      "A value is trying to be set on a copy of a slice from a DataFrame.\n",
      "Try using .loc[row_indexer,col_indexer] = value instead\n",
      "\n",
      "See the caveats in the documentation: http://pandas.pydata.org/pandas-docs/stable/user_guide/indexing.html#returning-a-view-versus-a-copy\n",
      "  \n"
     ]
    }
   ],
   "source": [
    "polling_data['Start Date'] = polling_data['Start Date'].astype(str) + '/2016'\n",
    "polling_data['End Date'] = polling_data['End Date'].astype(str) + '/2016'"
   ]
  },
  {
   "cell_type": "code",
   "execution_count": 61,
   "metadata": {},
   "outputs": [
    {
     "name": "stderr",
     "output_type": "stream",
     "text": [
      "C:\\Users\\nolan\\Anaconda3\\lib\\site-packages\\ipykernel_launcher.py:3: SettingWithCopyWarning: \n",
      "A value is trying to be set on a copy of a slice from a DataFrame.\n",
      "Try using .loc[row_indexer,col_indexer] = value instead\n",
      "\n",
      "See the caveats in the documentation: http://pandas.pydata.org/pandas-docs/stable/user_guide/indexing.html#returning-a-view-versus-a-copy\n",
      "  This is separate from the ipykernel package so we can avoid doing imports until\n",
      "C:\\Users\\nolan\\Anaconda3\\lib\\site-packages\\ipykernel_launcher.py:4: SettingWithCopyWarning: \n",
      "A value is trying to be set on a copy of a slice from a DataFrame.\n",
      "Try using .loc[row_indexer,col_indexer] = value instead\n",
      "\n",
      "See the caveats in the documentation: http://pandas.pydata.org/pandas-docs/stable/user_guide/indexing.html#returning-a-view-versus-a-copy\n",
      "  after removing the cwd from sys.path.\n"
     ]
    }
   ],
   "source": [
    "# Change the string date columns to datetime\n",
    "\n",
    "polling_data['Start Date'] = pd.to_datetime(polling_data['Start Date'])\n",
    "polling_data['End Date'] = pd.to_datetime(polling_data['End Date'])"
   ]
  },
  {
   "cell_type": "code",
   "execution_count": 65,
   "metadata": {},
   "outputs": [
    {
     "name": "stderr",
     "output_type": "stream",
     "text": [
      "C:\\Users\\nolan\\Anaconda3\\lib\\site-packages\\ipykernel_launcher.py:3: SettingWithCopyWarning: \n",
      "A value is trying to be set on a copy of a slice from a DataFrame.\n",
      "Try using .loc[row_indexer,col_indexer] = value instead\n",
      "\n",
      "See the caveats in the documentation: http://pandas.pydata.org/pandas-docs/stable/user_guide/indexing.html#returning-a-view-versus-a-copy\n",
      "  This is separate from the ipykernel package so we can avoid doing imports until\n",
      "C:\\Users\\nolan\\Anaconda3\\lib\\site-packages\\ipykernel_launcher.py:4: SettingWithCopyWarning: \n",
      "A value is trying to be set on a copy of a slice from a DataFrame.\n",
      "Try using .loc[row_indexer,col_indexer] = value instead\n",
      "\n",
      "See the caveats in the documentation: http://pandas.pydata.org/pandas-docs/stable/user_guide/indexing.html#returning-a-view-versus-a-copy\n",
      "  after removing the cwd from sys.path.\n"
     ]
    }
   ],
   "source": [
    "# Add a column for weeks of the polls\n",
    "\n",
    "polling_data['Start Week'] = polling_data['Start Date'].dt.week\n",
    "polling_data['End Week'] = polling_data['End Date'].dt.week"
   ]
  },
  {
   "cell_type": "code",
   "execution_count": null,
   "metadata": {},
   "outputs": [],
   "source": []
  },
  {
   "cell_type": "code",
   "execution_count": 76,
   "metadata": {},
   "outputs": [
    {
     "data": {
      "text/plain": [
       "<matplotlib.collections.PathCollection at 0x1a868092f98>"
      ]
     },
     "execution_count": 76,
     "metadata": {},
     "output_type": "execute_result"
    },
    {
     "data": {
      "image/png": "[encoded data removed]",
      "text/plain": [
       "<Figure size 1152x720 with 1 Axes>"
      ]
     },
     "metadata": {
      "needs_background": "light"
     },
     "output_type": "display_data"
    }
   ],
   "source": [
    "# This looks like a mess\n",
    "\n",
    "plt.figure(figsize=(16, 10))\n",
    "\n",
    "plt.scatter(polling_data['End Week'], polling_data['Clinton (D)'])"
   ]
  },
  {
   "cell_type": "code",
   "execution_count": 75,
   "metadata": {},
   "outputs": [
    {
     "data": {
      "text/plain": [
       "1      44\n",
       "2      44\n",
       "3      44\n",
       "4      44\n",
       "5      44\n",
       "       ..\n",
       "218     6\n",
       "219     5\n",
       "220     5\n",
       "221     1\n",
       "222     1\n",
       "Name: Start Week, Length: 222, dtype: int64"
      ]
     },
     "execution_count": 75,
     "metadata": {},
     "output_type": "execute_result"
    }
   ],
   "source": []
  },
  {
   "cell_type": "code",
   "execution_count": null,
   "metadata": {},
   "outputs": [],
   "source": []
  }
 ],
 "metadata": {
  "kernelspec": {
   "display_name": "Python 3",
   "language": "python",
   "name": "python3"
  },
  "language_info": {
   "codemirror_mode": {
    "name": "ipython",
    "version": 3
   },
   "file_extension": ".py",
   "mimetype": "text/x-python",
   "name": "python",
   "nbconvert_exporter": "python",
   "pygments_lexer": "ipython3",
   "version": "3.7.3"
  }
 },
 "nbformat": 4,
 "nbformat_minor": 2
}
